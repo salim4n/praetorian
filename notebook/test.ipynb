{
 "cells": [
  {
   "cell_type": "code",
   "execution_count": 1,
   "metadata": {},
   "outputs": [],
   "source": [
    "#connect to camera\n",
    "from azure.storage.blob import BlobServiceClient\n",
    "from PIL import Image\n",
    "import cv2"
   ]
  },
  {
   "cell_type": "code",
   "execution_count": 2,
   "metadata": {},
   "outputs": [],
   "source": [
    "\n",
    "import numpy as np\n",
    "\n",
    "def extract_frames(video_path):\n",
    "    cap = cv2.VideoCapture(video_path)\n",
    "    frames = []\n",
    "\n",
    "    while cap.isOpened():\n",
    "        ret, frame = cap.read()\n",
    "\n",
    "        if not ret:\n",
    "            break\n",
    "\n",
    "        frames.append(frame)\n",
    "\n",
    "    cap.release()\n",
    "\n",
    "    return frames"
   ]
  },
  {
   "cell_type": "code",
   "execution_count": 3,
   "metadata": {},
   "outputs": [],
   "source": [
    "def upload_blob(data, filename):\n",
    "    try:\n",
    "        # Connect to the Azure storage account\n",
    "        connect_str = \"DefaultEndpointsProtocol=https;AccountName=praetorianblob;AccountKey=PEv0rg+hl5Y2j4I52M6eddkBVK/1JghLJj95PfBtqC8F/T3bjKgfTwxxi6kGGPIvonrSLvvkI9Vc+AStNfJI6w==;EndpointSuffix=core.windows.net\"\n",
    "        blob_client = BlobServiceClient.from_connection_string(connect_str)\n",
    "        print(\"\\nUploading to Azure Storage as blob:\\n\\t\" + filename)\n",
    "        # Upload the created file\n",
    "        blob_client = blob_client.get_blob_client(container=\"onpremvideo\", blob=filename)\n",
    "        blob_client.upload_blob(data)\n",
    "            \n",
    "    except Exception as ex:\n",
    "        print('Exception:')\n",
    "        print(ex)"
   ]
  },
  {
   "cell_type": "code",
   "execution_count": 4,
   "metadata": {},
   "outputs": [],
   "source": [
    "\n",
    "def extract_frames(video_path):\n",
    "    frames = []\n",
    "    cap = cv2.VideoCapture(video_path)\n",
    "\n",
    "    if not cap.isOpened():\n",
    "        print(\"Error opening video file\")\n",
    "        return frames\n",
    "\n",
    "    while cap.isOpened():\n",
    "        ret, frame = cap.read()\n",
    "        if not ret:\n",
    "            break\n",
    "        frames.append(frame)\n",
    "\n",
    "    cap.release()\n",
    "    return frames\n"
   ]
  },
  {
   "cell_type": "code",
   "execution_count": 5,
   "metadata": {},
   "outputs": [],
   "source": [
    "import datetime\n",
    "\n",
    "def run_camera(model, preprocessor):\n",
    "    # Connect to the camera\n",
    "    cap = cv2.VideoCapture(0)\n",
    "\n",
    "    # Check if camera opened successfully\n",
    "    if not cap.isOpened():\n",
    "        print(\"Error opening video stream or file\")\n",
    "        return\n",
    "\n",
    "    # 5 seconds of video\n",
    "    seconds = 5\n",
    "\n",
    "    # Get the current time\n",
    "    now = datetime.datetime.now()\n",
    "\n",
    "    # Create a filename\n",
    "    filename = now.strftime(\"%Y-%m-%d-%H-%M-%S\") + \".avi\"\n",
    "\n",
    "    # Create a video writer\n",
    "    fourcc = cv2.VideoWriter_fourcc(*'XVID')\n",
    "    out = cv2.VideoWriter(filename, fourcc, 20.0, (640, 480))\n",
    "\n",
    "    # Get the end time\n",
    "    end = now + datetime.timedelta(seconds=seconds)\n",
    "\n",
    "    # Loop until the end time\n",
    "    while datetime.datetime.now() < end:\n",
    "        # Capture frame-by-frame\n",
    "        ret, frame = cap.read()\n",
    "\n",
    "        if ret:\n",
    "            # Write the frame to the video\n",
    "            out.write(frame)\n",
    "\n",
    "            # Display the resulting frame\n",
    "            cv2.imshow('Frame', frame)\n",
    "\n",
    "            # Press Q on the keyboard to exit\n",
    "            if cv2.waitKey(1) & 0xFF == ord('q'):\n",
    "                break\n",
    "        else:\n",
    "            break\n",
    "\n",
    "    # Release the video capture\n",
    "    cap.release()\n",
    "\n",
    "    # Release the video writer\n",
    "    out.release()\n",
    "\n",
    "    # Closes all the frames\n",
    "    cv2.destroyAllWindows()\n",
    "\n",
    "    # Extract the frames\n",
    "    frames = extract_frames(filename)\n",
    "\n",
    "    # Check if frames are extracted successfully\n",
    "    if not frames:\n",
    "        print(\"Error extracting frames from the video\")\n",
    "        return\n",
    "\n",
    "    # Loop through the frames\n",
    "    for frame in frames:\n",
    "        # Preprocess the frame\n",
    "        preprocessed_frame = preprocessor(frame)\n",
    "\n",
    "        # Check if frame preprocessing is successful\n",
    "        if preprocessed_frame is None:\n",
    "            print(\"Error preprocessing frame\")\n",
    "            continue  # Skip to the next iteration\n",
    "\n",
    "        # Make a prediction\n",
    "        prediction = model.predict(preprocessed_frame)\n",
    "\n",
    "        # Get the prediction label\n",
    "        label = prediction.argmax(axis=-1)\n",
    "\n",
    "        # Get the prediction label text\n",
    "        label_text = model.get_label_name(label)\n",
    "\n",
    "        # Draw the label on the frame\n",
    "        cv2.putText(frame, label_text, (10, 30), cv2.FONT_HERSHEY_SIMPLEX, 1.0, (0, 0, 255), 3)\n",
    "\n",
    "        # Display the frame\n",
    "        cv2.imshow('Frame', frame)\n",
    "\n",
    "        # Press Q on the keyboard to exit\n",
    "        if cv2.waitKey(1) & 0xFF == ord('q'):\n",
    "            break\n",
    "\n",
    "    # Closes all the frames\n",
    "    cv2.destroyAllWindows()\n",
    "\n",
    "    # Upload the video to Azure Blob Storage\n",
    "    upload_blob(open(filename, \"rb\"), filename)\n",
    "\n",
    "    # Delete the video file\n",
    "    # os.remove(filename)\n"
   ]
  },
  {
   "cell_type": "code",
   "execution_count": 6,
   "metadata": {},
   "outputs": [
    {
     "name": "stderr",
     "output_type": "stream",
     "text": [
      "/Users/salim/anaconda3/lib/python3.11/site-packages/transformers/utils/generic.py:260: UserWarning: torch.utils._pytree._register_pytree_node is deprecated. Please use torch.utils._pytree.register_pytree_node instead.\n",
      "  torch.utils._pytree._register_pytree_node(\n",
      "/Users/salim/anaconda3/lib/python3.11/site-packages/transformers/utils/generic.py:260: UserWarning: torch.utils._pytree._register_pytree_node is deprecated. Please use torch.utils._pytree.register_pytree_node instead.\n",
      "  torch.utils._pytree._register_pytree_node(\n"
     ]
    }
   ],
   "source": [
    "from transformers import YolosImageProcessor, YolosForObjectDetection"
   ]
  },
  {
   "cell_type": "code",
   "execution_count": 7,
   "metadata": {},
   "outputs": [],
   "source": [
    "model = YolosForObjectDetection.from_pretrained(\"/Users/salim/dev/prototype/praetorian/onpremise/service/yolos-tiny\")\n",
    "preprocessor = YolosImageProcessor.from_pretrained(\"/Users/salim/dev/prototype/praetorian/onpremise/service/yolos-tiny\")"
   ]
  },
  {
   "cell_type": "code",
   "execution_count": 8,
   "metadata": {},
   "outputs": [
    {
     "name": "stderr",
     "output_type": "stream",
     "text": [
      "[ WARN:0@8.595] global /private/var/folders/k1/30mswbxs7r1g6zwn8y4fyt500000gp/T/abs_11nitadzeg/croot/opencv-suite_1691620374638/work/modules/videoio/src/cap_gstreamer.cpp (862) isPipelinePlaying OpenCV | GStreamer warning: GStreamer: pipeline have not been created\n",
      "[ WARN:0@10.122] global /private/var/folders/k1/30mswbxs7r1g6zwn8y4fyt500000gp/T/abs_11nitadzeg/croot/opencv-suite_1691620374638/work/modules/videoio/src/cap_gstreamer.cpp (2180) open OpenCV | GStreamer warning: cannot link elements\n"
     ]
    },
    {
     "name": "stdout",
     "output_type": "stream",
     "text": [
      "Error opening video file\n",
      "Error extracting frames from the video\n"
     ]
    },
    {
     "name": "stderr",
     "output_type": "stream",
     "text": [
      "[ WARN:0@15.202] global /private/var/folders/k1/30mswbxs7r1g6zwn8y4fyt500000gp/T/abs_11nitadzeg/croot/opencv-suite_1691620374638/work/modules/videoio/src/cap_gstreamer.cpp (1127) open OpenCV | GStreamer warning: Error opening bin: unexpected reference \"2023-12-30-17-02-24\" - ignoring\n",
      "[ WARN:0@15.203] global /private/var/folders/k1/30mswbxs7r1g6zwn8y4fyt500000gp/T/abs_11nitadzeg/croot/opencv-suite_1691620374638/work/modules/videoio/src/cap_gstreamer.cpp (862) isPipelinePlaying OpenCV | GStreamer warning: GStreamer: pipeline have not been created\n",
      "OpenCV: Couldn't read video stream from file \"2023-12-30-17-02-24.avi\"\n"
     ]
    }
   ],
   "source": [
    "run_camera(model, preprocessor)"
   ]
  },
  {
   "cell_type": "code",
   "execution_count": null,
   "metadata": {},
   "outputs": [],
   "source": []
  }
 ],
 "metadata": {
  "kernelspec": {
   "display_name": "base",
   "language": "python",
   "name": "python3"
  },
  "language_info": {
   "codemirror_mode": {
    "name": "ipython",
    "version": 3
   },
   "file_extension": ".py",
   "mimetype": "text/x-python",
   "name": "python",
   "nbconvert_exporter": "python",
   "pygments_lexer": "ipython3",
   "version": "3.11.7"
  }
 },
 "nbformat": 4,
 "nbformat_minor": 2
}
